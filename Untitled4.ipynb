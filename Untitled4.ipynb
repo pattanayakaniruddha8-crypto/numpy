{
 "cells": [
  {
   "cell_type": "code",
   "execution_count": null,
   "id": "113da239-938d-416e-b5fb-660a9a5b4748",
   "metadata": {},
   "outputs": [],
   "source": [
    "import numpy as np"
   ]
  },
  {
   "cell_type": "code",
   "execution_count": 2,
   "id": "f2a1e615-57e7-4b8a-83b9-f05ac2ec339d",
   "metadata": {},
   "outputs": [
    {
     "name": "stdout",
     "output_type": "stream",
     "text": [
      "5x5 Matrix:\n",
      " [[ 1  2  3  4  5]\n",
      " [ 6  7  8  9 10]\n",
      " [11 12 13 14 15]\n",
      " [16 17 18 19 20]\n",
      " [21 22 23 24 25]]\n"
     ]
    }
   ],
   "source": [
    "# 1. Create a 5×5 matrix with values 1,2,3,…,25\n",
    "a1 = np.arange(1, 26).reshape(5, 5)\n",
    "print(\"5x5 Matrix:\\n\", a1)"
   ]
  },
  {
   "cell_type": "code",
   "execution_count": 3,
   "id": "8e202808-310c-4e0b-9da2-47e2d8eb58fd",
   "metadata": {},
   "outputs": [
    {
     "name": "stdout",
     "output_type": "stream",
     "text": [
      "\n",
      "4x4 Identity Matrix:\n",
      " [[1. 0. 0. 0.]\n",
      " [0. 1. 0. 0.]\n",
      " [0. 0. 1. 0.]\n",
      " [0. 0. 0. 1.]]\n"
     ]
    }
   ],
   "source": [
    "\n",
    "# 2. Generate a 4×4 identity matrix\n",
    "a2 = np.eye(4)\n",
    "print(\"\\n4x4 Identity Matrix:\\n\", a2)"
   ]
  },
  {
   "cell_type": "code",
   "execution_count": 4,
   "id": "526ad95f-b17b-4e33-b51d-e4741712384a",
   "metadata": {},
   "outputs": [
    {
     "name": "stdout",
     "output_type": "stream",
     "text": [
      "\n",
      "Array 100-200 step 10:\n",
      " [100 110 120 130 140 150 160 170 180 190 200]\n"
     ]
    }
   ],
   "source": [
    "# 3. Create a 1D array from 100 to 200 with step 10\n",
    "a3 = np.arange(100, 201, 10)\n",
    "print(\"\\nArray 100-200 step 10:\\n\", a3)"
   ]
  },
  {
   "cell_type": "code",
   "execution_count": 5,
   "id": "dadd0af0-76f8-4381-a479-c5b7c31b80e8",
   "metadata": {},
   "outputs": [
    {
     "name": "stdout",
     "output_type": "stream",
     "text": [
      "\n",
      "Random 3x3:\n",
      " [[0.83008195 0.46902848 0.56834457]\n",
      " [0.57279287 0.62818456 0.554489  ]\n",
      " [0.44093314 0.83676027 0.88535734]] \n",
      "Determinant: 0.06832315624052944\n"
     ]
    }
   ],
   "source": [
    "\n",
    "# 4. Random 3×3 matrix and determinant\n",
    "a4 = np.random.rand(3, 3)\n",
    "det = np.linalg.det(a4)\n",
    "print(\"\\nRandom 3x3:\\n\", a4, \"\\nDeterminant:\", det)"
   ]
  },
  {
   "cell_type": "code",
   "execution_count": 16,
   "id": "55ca1378-dec6-4cbb-98ba-0449e5aedf50",
   "metadata": {},
   "outputs": [
    {
     "name": "stdout",
     "output_type": "stream",
     "text": [
      "\n",
      "Random Integers:\n",
      " [78 72 98 38 45 20 69 84 88  1]\n"
     ]
    }
   ],
   "source": [
    "# 5. 10 random integers between 1 and 100\n",
    "a5 = np.random.randint(1, 101, 10)\n",
    "print(\"\\nRandom Integers:\\n\", a5)"
   ]
  },
  {
   "cell_type": "code",
   "execution_count": 17,
   "id": "9e760dbd-b72b-4305-90c9-f1d6b526632a",
   "metadata": {},
   "outputs": [
    {
     "name": "stdout",
     "output_type": "stream",
     "text": [
      "\n",
      "Reshaped 3x4:\n",
      " [[ 0  1  2  3]\n",
      " [ 4  5  6  7]\n",
      " [ 8  9 10 11]]\n"
     ]
    }
   ],
   "source": [
    "#6. Reshape 1D (size 12) into 3×4 matrix\n",
    "a6 = np.arange(12).reshape(3, 4)\n",
    "print(\"\\nReshaped 3x4:\\n\", a6)"
   ]
  },
  {
   "cell_type": "code",
   "execution_count": 18,
   "id": "d277b0a8-419a-40cc-8a76-f7abc4106193",
   "metadata": {},
   "outputs": [
    {
     "name": "stdout",
     "output_type": "stream",
     "text": [
      "\n",
      "Matrix Multiplication:\n",
      " [[58 64 72]\n",
      " [58 58 76]\n",
      " [42 54 56]]\n"
     ]
    }
   ],
   "source": [
    "#7. Matrix multiplication (two 3×3)\n",
    "m1, m2 = np.random.randint(1, 10, (3, 3)), np.random.randint(1, 10, (3, 3))\n",
    "product = np.dot(m1, m2)\n",
    "print(\"\\nMatrix Multiplication:\\n\", product)\n"
   ]
  },
  {
   "cell_type": "code",
   "execution_count": 19,
   "id": "b91de737-6d31-4099-8e72-7f1513bf6d10",
   "metadata": {},
   "outputs": [
    {
     "name": "stdout",
     "output_type": "stream",
     "text": [
      "\n",
      "Eigenvalues: [5. 2.] \n",
      "Eigenvectors:\n",
      " [[ 0.89442719 -0.70710678]\n",
      " [ 0.4472136   0.70710678]]\n"
     ]
    }
   ],
   "source": [
    "#8. Eigenvalues & Eigenvectors of 2×2\n",
    "m3 = np.array([[4, 2], [1, 3]])\n",
    "eigvals, eigvecs = np.linalg.eig(m3)\n",
    "print(\"\\nEigenvalues:\", eigvals, \"\\nEigenvectors:\\n\", eigvecs)"
   ]
  },
  {
   "cell_type": "code",
   "execution_count": 20,
   "id": "a7334ecd-65a0-4f4a-aba1-36b41ab9c9f0",
   "metadata": {},
   "outputs": [
    {
     "name": "stdout",
     "output_type": "stream",
     "text": [
      "\n",
      "Diagonal Elements: [0.85338879 0.38913961 0.63957453 0.72875667 0.33486223]\n"
     ]
    }
   ],
   "source": [
    "#9. 5×5 random matrix & diagonal elements\n",
    "a9 = np.random.rand(5, 5)\n",
    "print(\"\\nDiagonal Elements:\", np.diag(a9))"
   ]
  },
  {
   "cell_type": "code",
   "execution_count": 21,
   "id": "7d685271-2e15-413f-ace5-780e58828594",
   "metadata": {},
   "outputs": [
    {
     "name": "stdout",
     "output_type": "stream",
     "text": [
      "\n",
      "Normalized Array:\n",
      " [0.68181818 0.31818182 0.72727273 0.59090909 0.29545455 0.79545455\n",
      " 0.06818182 0.86363636 1.         0.        ]\n"
     ]
    }
   ],
   "source": [
    "#10. Normalize a 1D array\n",
    "a10 = np.random.randint(1, 50, 10)\n",
    "normalized = (a10 - a10.min()) / (a10.max() - a10.min())\n",
    "print(\"\\nNormalized Array:\\n\", normalized)"
   ]
  },
  {
   "cell_type": "code",
   "execution_count": 22,
   "id": "22a1a8f5-739a-4729-82eb-82979c3e473b",
   "metadata": {},
   "outputs": [
    {
     "name": "stdout",
     "output_type": "stream",
     "text": [
      "\n",
      "Sorted by row:\n",
      " [[26 26 27]\n",
      " [ 3 10 23]\n",
      " [ 5 23 29]]\n",
      "Sorted by col:\n",
      " [[10 23  3]\n",
      " [26 23  5]\n",
      " [29 27 26]]\n"
     ]
    }
   ],
   "source": [
    " #11. Sort array by row & column\n",
    "a11 = np.random.randint(1, 50, (3, 3))\n",
    "print(\"\\nSorted by row:\\n\", np.sort(a11, axis=1))\n",
    "print(\"Sorted by col:\\n\", np.sort(a11, axis=0))"
   ]
  },
  {
   "cell_type": "code",
   "execution_count": 23,
   "id": "4e1728a4-b48c-4863-bda1-c8c9b2e2fae5",
   "metadata": {},
   "outputs": [
    {
     "name": "stdout",
     "output_type": "stream",
     "text": [
      "\n",
      "Array: [72 39 80 56 11 66 91 44 14 56]\n",
      "Max idx: 6 Min idx: 4\n"
     ]
    }
   ],
   "source": [
    "#12. Indices of max & min\n",
    "a12 = np.random.randint(1, 100, 10)\n",
    "print(\"\\nArray:\", a12)\n",
    "print(\"Max idx:\", np.argmax(a12), \"Min idx:\", np.argmin(a12))\n"
   ]
  },
  {
   "cell_type": "code",
   "execution_count": 24,
   "id": "69cfd951-4dfe-48c3-adb8-5ce5af4cdb0a",
   "metadata": {},
   "outputs": [
    {
     "name": "stdout",
     "output_type": "stream",
     "text": [
      "\n",
      "Flatten (ravel): [0 1 2 3 4 5 6 7 8]\n",
      "Flatten (flatten): [0 1 2 3 4 5 6 7 8]\n"
     ]
    }
   ],
   "source": [
    "#13. Flatten 2D array\n",
    "a13 = np.arange(9).reshape(3, 3)\n",
    "print(\"\\nFlatten (ravel):\", a13.ravel())\n",
    "print(\"Flatten (flatten):\", a13.flatten())"
   ]
  },
  {
   "cell_type": "code",
   "execution_count": 25,
   "id": "3276afa6-85ec-4742-838f-bcbc2300e814",
   "metadata": {},
   "outputs": [
    {
     "name": "stdout",
     "output_type": "stream",
     "text": [
      "\n",
      "Inverse:\n",
      " [[  0.890974    10.40551364 -12.43910675]\n",
      " [  4.40361617 -24.34560388  26.74298321]\n",
      " [ -1.64694715  -1.5625953    4.09519363]]\n"
     ]
    }
   ],
   "source": [
    "#14. Inverse of 3×3\n",
    "a14 = np.random.rand(3, 3)\n",
    "inv = np.linalg.inv(a14)\n",
    "print(\"\\nInverse:\\n\", inv)"
   ]
  },
  {
   "cell_type": "code",
   "execution_count": 26,
   "id": "96f87a8e-6320-41da-8d78-d9a51308bfe5",
   "metadata": {},
   "outputs": [
    {
     "name": "stdout",
     "output_type": "stream",
     "text": [
      "\n",
      "Random Permutation: [ 8  7  6  1 10  9  2  5  3  4]\n"
     ]
    }
   ],
   "source": [
    "#15. Random permutation of 1 to 10\n",
    "a15 = np.random.permutation(np.arange(1, 11))\n",
    "print(\"\\nRandom Permutation:\", a15)"
   ]
  },
  {
   "cell_type": "code",
   "execution_count": 27,
   "id": "e94708f0-aabe-4853-9960-6d46860bb966",
   "metadata": {},
   "outputs": [
    {
     "name": "stdout",
     "output_type": "stream",
     "text": [
      "\n",
      "Replace even with -1:\n",
      " [-1  1 -1  3 -1  5 -1  7 -1  9 -1 11 -1 13 -1 15 -1 17 -1 19 -1]\n"
     ]
    }
   ],
   "source": [
    "#16. Replace even numbers with -1\n",
    "a16 = np.arange(21)\n",
    "a16[a16 % 2 == 0] = -1\n",
    "print(\"\\nReplace even with -1:\\n\", a16)"
   ]
  },
  {
   "cell_type": "code",
   "execution_count": 28,
   "id": "88da9a57-6b33-4ccf-b397-f787ed9d176c",
   "metadata": {},
   "outputs": [
    {
     "name": "stdout",
     "output_type": "stream",
     "text": [
      "\n",
      "Dot Product: 32\n"
     ]
    }
   ],
   "source": [
    "#17. Dot product\n",
    "a17 = np.array([1, 2, 3])\n",
    "b17 = np.array([4, 5, 6])\n",
    "print(\"\\nDot Product:\", np.dot(a17, b17))\n"
   ]
  },
  {
   "cell_type": "code",
   "execution_count": 29,
   "id": "8100d470-42f8-48f1-a85a-baa897100c6f",
   "metadata": {},
   "outputs": [
    {
     "name": "stdout",
     "output_type": "stream",
     "text": [
      "\n",
      "Trace: 2.856071879917365\n"
     ]
    }
   ],
   "source": [
    "#18. Trace of 5×5 random matrix\n",
    "a18 = np.random.rand(5, 5)\n",
    "print(\"\\nTrace:\", np.trace(a18))"
   ]
  },
  {
   "cell_type": "code",
   "execution_count": 30,
   "id": "37431ab1-de67-434d-843d-6a965b0b9218",
   "metadata": {},
   "outputs": [
    {
     "name": "stdout",
     "output_type": "stream",
     "text": [
      "\n",
      "Split: [array([0, 1, 2]), array([3, 4, 5]), array([6, 7, 8])]\n"
     ]
    }
   ],
   "source": [
    "#19. Split 1D array into 3 equal parts\n",
    "a19 = np.arange(9)\n",
    "print(\"\\nSplit:\", np.split(a19, 3))"
   ]
  },
  {
   "cell_type": "code",
   "execution_count": 31,
   "id": "32418a96-cad2-4649-b6a7-dc9599d25f54",
   "metadata": {},
   "outputs": [
    {
     "name": "stdout",
     "output_type": "stream",
     "text": [
      "\n",
      "Mean across axis=0:\n",
      " [[0.28979083 0.72585695 0.58800671]\n",
      " [0.54887573 0.58989892 0.28621952]\n",
      " [0.84285005 0.79284511 0.7337572 ]]\n"
     ]
    }
   ],
   "source": [
    "#20. 3D array (3,3,3) & mean across axis=0\n",
    "a20 = np.random.rand(3, 3, 3)\n",
    "print(\"\\nMean across axis=0:\\n\", a20.mean(axis=0))"
   ]
  },
  {
   "cell_type": "code",
   "execution_count": 32,
   "id": "50f212e9-4730-4145-a30e-9db15aeb0313",
   "metadata": {},
   "outputs": [
    {
     "name": "stdout",
     "output_type": "stream",
     "text": [
      "\n",
      "Cumulative Sum: [ 0  1  3  6 10 15 21 28 36 45]\n"
     ]
    }
   ],
   "source": [
    "#21. Cumulative sum\n",
    "a21 = np.arange(10)\n",
    "print(\"\\nCumulative Sum:\", np.cumsum(a21))\n"
   ]
  },
  {
   "cell_type": "code",
   "execution_count": 33,
   "id": "f175c889-d830-425b-b459-563c1f721192",
   "metadata": {},
   "outputs": [
    {
     "name": "stdout",
     "output_type": "stream",
     "text": [
      "\n",
      "Upper Triangular:\n",
      " [[2 4 7 5]\n",
      " [0 1 8 9]\n",
      " [0 0 4 6]\n",
      " [0 0 0 9]]\n"
     ]
    }
   ],
   "source": [
    "#22. Upper triangular matrix\n",
    "a22 = np.random.randint(1, 10, (4, 4))\n",
    "print(\"\\nUpper Triangular:\\n\", np.triu(a22))"
   ]
  },
  {
   "cell_type": "code",
   "execution_count": 34,
   "id": "4ea1a38a-d8e4-4a25-93e3-e964306254b7",
   "metadata": {},
   "outputs": [
    {
     "name": "stdout",
     "output_type": "stream",
     "text": [
      "\n",
      "Checkerboard:\n",
      " [[0 1 0 1 0 1]\n",
      " [1 0 1 0 1 0]\n",
      " [0 1 0 1 0 1]\n",
      " [1 0 1 0 1 0]\n",
      " [0 1 0 1 0 1]\n",
      " [1 0 1 0 1 0]]\n"
     ]
    }
   ],
   "source": [
    " #23. Checkerboard 6×6\n",
    "a23 = np.indices((6, 6)).sum(axis=0) % 2\n",
    "print(\"\\nCheckerboard:\\n\", a23)\n"
   ]
  },
  {
   "cell_type": "code",
   "execution_count": 35,
   "id": "38c18fdd-dfee-4f08-89b8-e011116915d5",
   "metadata": {},
   "outputs": [
    {
     "name": "stdout",
     "output_type": "stream",
     "text": [
      "\n",
      "Square Root:\n",
      " [[1.77335092 0.83386552 2.88271375]\n",
      " [3.01978232 2.90194599 2.52037212]\n",
      " [1.95392985 0.57392741 1.95365747]]\n"
     ]
    }
   ],
   "source": [
    "#24. Element-wise sqrt\n",
    "a24 = np.random.rand(3, 3) * 10\n",
    "print(\"\\nSquare Root:\\n\", np.sqrt(a24))"
   ]
  },
  {
   "cell_type": "code",
   "execution_count": 36,
   "id": "8656279a-3441-4b2d-8169-99f292068216",
   "metadata": {},
   "outputs": [
    {
     "name": "stdout",
     "output_type": "stream",
     "text": [
      "\n",
      "Reversed: [19 18 17 16 15 14 13 12 11 10  9  8  7  6  5  4  3  2  1  0]\n"
     ]
    }
   ],
   "source": [
    "#25. Reverse 1D array (no slicing)\n",
    "a25 = np.arange(20)\n",
    "print(\"\\nReversed:\", np.flip(a25))"
   ]
  },
  {
   "cell_type": "code",
   "execution_count": 37,
   "id": "3febf9bb-4d81-4113-8cb9-0926260bf569",
   "metadata": {},
   "outputs": [
    {
     "name": "stdout",
     "output_type": "stream",
     "text": [
      "\n",
      "Vertical:\n",
      " [[1 2]\n",
      " [3 4]\n",
      " [5 6]\n",
      " [7 8]]\n",
      "Horizontal:\n",
      " [[1 2 5 6]\n",
      " [3 4 7 8]]\n"
     ]
    }
   ],
   "source": [
    "#26. Merge arrays vertically & horizontally\n",
    "a26, b26 = np.array([[1, 2], [3, 4]]), np.array([[5, 6], [7, 8]])\n",
    "print(\"\\nVertical:\\n\", np.vstack((a26, b26)))\n",
    "print(\"Horizontal:\\n\", np.hstack((a26, b26)))"
   ]
  },
  {
   "cell_type": "code",
   "execution_count": 38,
   "id": "5b936012-c6f9-4f15-b114-2b5f468e3574",
   "metadata": {},
   "outputs": [
    {
     "name": "stdout",
     "output_type": "stream",
     "text": [
      "\n",
      "Row Sum: [ 6 15 24]\n",
      "Col Sum: [12 15 18]\n"
     ]
    }
   ],
   "source": [
    "# 27. Row-wise & column-wise sum\n",
    "a27 = np.arange(1, 10).reshape(3, 3)\n",
    "print(\"\\nRow Sum:\", a27.sum(axis=1))\n",
    "print(\"Col Sum:\", a27.sum(axis=0))"
   ]
  },
  {
   "cell_type": "code",
   "execution_count": 39,
   "id": "5202e248-b77a-418e-b4f6-2dcb9d749ca5",
   "metadata": {},
   "outputs": [
    {
     "name": "stdout",
     "output_type": "stream",
     "text": [
      "\n",
      "NaN Replaced:\n",
      " [[ 1. nan  3.]\n",
      " [ 4. nan  6.]]\n"
     ]
    },
    {
     "name": "stderr",
     "output_type": "stream",
     "text": [
      "C:\\Users\\HP\\AppData\\Local\\Temp\\ipykernel_12868\\4046354437.py:3: RuntimeWarning: Mean of empty slice\n",
      "  col_mean = np.nanmean(a28, axis=0)\n"
     ]
    }
   ],
   "source": [
    "# 28. Replace NaN with mean\n",
    "a28 = np.array([[1, np.nan, 3], [4, np.nan, 6]])\n",
    "col_mean = np.nanmean(a28, axis=0)\n",
    "inds = np.where(np.isnan(a28))\n",
    "a28[inds] = np.take(col_mean, inds[1])\n",
    "print(\"\\nNaN Replaced:\\n\", a28)"
   ]
  },
  {
   "cell_type": "code",
   "execution_count": 40,
   "id": "e00e5fab-b8b4-49c6-aa87-81e55862b7b7",
   "metadata": {},
   "outputs": [
    {
     "name": "stdout",
     "output_type": "stream",
     "text": [
      "\n",
      "Cosine Similarity: 0.9746318461970762\n"
     ]
    }
   ],
   "source": [
    "#29. Cosine similarity\n",
    "a29, b29 = np.array([1, 2, 3]), np.array([4, 5, 6])\n",
    "cos_sim = np.dot(a29, b29) / (np.linalg.norm(a29) * np.linalg.norm(b29))\n",
    "print(\"\\nCosine Similarity:\", cos_sim)"
   ]
  },
  {
   "cell_type": "code",
   "execution_count": 41,
   "id": "90d2dae7-f062-48e3-8463-821fffc5963d",
   "metadata": {},
   "outputs": [
    {
     "name": "stdout",
     "output_type": "stream",
     "text": [
      "\n",
      "Rotated:\n",
      " [[ 3  7 11 15]\n",
      " [ 2  6 10 14]\n",
      " [ 1  5  9 13]\n",
      " [ 0  4  8 12]]\n"
     ]
    }
   ],
   "source": [
    "#30. Rotate 4×4 by 90 degrees\n",
    "a30 = np.arange(16).reshape(4, 4)\n",
    "print(\"\\nRotated:\\n\", np.rot90(a30))\n"
   ]
  },
  {
   "cell_type": "code",
   "execution_count": 42,
   "id": "25bd5754-0f44-4cb1-ac5f-7a88993b8500",
   "metadata": {},
   "outputs": [
    {
     "name": "stdout",
     "output_type": "stream",
     "text": [
      "\n",
      "Structured Array:\n",
      " [('Alice', 21, 85.5) ('Bob', 22, 90. )]\n"
     ]
    }
   ],
   "source": [
    "#31. Structured array\n",
    "a31 = np.array([(\"Alice\", 21, 85.5), (\"Bob\", 22, 90.0)],\n",
    "               dtype=[(\"name\", \"U10\"), (\"age\", \"i4\"), (\"marks\", \"f4\")])\n",
    "print(\"\\nStructured Array:\\n\", a31)"
   ]
  },
  {
   "cell_type": "code",
   "execution_count": 43,
   "id": "79ecee0c-d112-462d-bce1-ef5f341b496d",
   "metadata": {},
   "outputs": [
    {
     "name": "stdout",
     "output_type": "stream",
     "text": [
      "\n",
      "Rank: 3\n"
     ]
    }
   ],
   "source": [
    "#32. Rank of matrix\n",
    "a32 = np.random.rand(3, 3)\n",
    "print(\"\\nRank:\", np.linalg.matrix_rank(a32))\n"
   ]
  },
  {
   "cell_type": "code",
   "execution_count": 44,
   "id": "f4e6a816-b67a-4c7a-aaa8-324ffecb284b",
   "metadata": {},
   "outputs": [
    {
     "name": "stdout",
     "output_type": "stream",
     "text": [
      "\n",
      "Row Normalized:\n",
      " [[0.50025587 0.35237156 0.49450913 0.46416201 0.40693084]\n",
      " [0.21524478 0.65644714 0.65712687 0.00136516 0.30154476]\n",
      " [0.24191159 0.68232361 0.30840434 0.61690399 0.01514919]\n",
      " [0.53840929 0.29275626 0.48924094 0.47990535 0.39337433]\n",
      " [0.22605289 0.19572847 0.1452073  0.8413934  0.42610144]]\n"
     ]
    }
   ],
   "source": [
    "#33. Normalize rows to unit length\n",
    "a33 = np.random.rand(5, 5)\n",
    "a33_norm = a33 / np.linalg.norm(a33, axis=1, keepdims=True)\n",
    "print(\"\\nRow Normalized:\\n\", a33_norm)\n"
   ]
  },
  {
   "cell_type": "code",
   "execution_count": 45,
   "id": "e530ea65-63a8-4717-83fc-9d2eaddd7115",
   "metadata": {},
   "outputs": [
    {
     "name": "stdout",
     "output_type": "stream",
     "text": [
      "\n",
      "Equal: False\n"
     ]
    }
   ],
   "source": [
    "#34. Check arrays equal element-wise\n",
    "a34, b34 = np.array([1, 2, 3]), np.array([1, 2, 4])\n",
    "print(\"\\nEqual:\", np.array_equal(a34, b34))"
   ]
  },
  {
   "cell_type": "code",
   "execution_count": 46,
   "id": "717ecd35-4af6-4bbd-9d31-5f7ffb407572",
   "metadata": {},
   "outputs": [
    {
     "name": "stdout",
     "output_type": "stream",
     "text": [
      "\n",
      "Histogram:\n",
      " [ 17  55 166 236 241 176  72  29   6   2]\n"
     ]
    }
   ],
   "source": [
    "#35. Histogram of dataset\n",
    "a35 = np.random.randn(1000)\n",
    "hist, bins = np.histogram(a35, bins=10)\n",
    "print(\"\\nHistogram:\\n\", hist)"
   ]
  },
  {
   "cell_type": "code",
   "execution_count": 47,
   "id": "f517bf0e-f78c-4ecd-8fa8-77bf05d362e5",
   "metadata": {},
   "outputs": [
    {
     "name": "stdout",
     "output_type": "stream",
     "text": [
      "\n",
      "Broadcasted Add:\n",
      " [[2. 3. 4.]\n",
      " [2. 3. 4.]\n",
      " [2. 3. 4.]]\n"
     ]
    }
   ],
   "source": [
    "#36. Broadcasting addition\n",
    "a36 = np.ones((3, 3))\n",
    "b36 = np.array([1, 2, 3])\n",
    "print(\"\\nBroadcasted Add:\\n\", a36 + b36)"
   ]
  },
  {
   "cell_type": "code",
   "execution_count": 48,
   "id": "f2a7c68f-2fcb-4bc0-90e0-de36cea20648",
   "metadata": {},
   "outputs": [
    {
     "name": "stdout",
     "output_type": "stream",
     "text": [
      "\n",
      "Unique: [1 2 3 4] Counts: [1 2 3 1]\n"
     ]
    }
   ],
   "source": [
    "#37. Unique values & counts\n",
    "a37 = np.array([1, 2, 2, 3, 3, 3, 4])\n",
    "uniq, counts = np.unique(a37, return_counts=True)\n",
    "print(\"\\nUnique:\", uniq, \"Counts:\", counts)"
   ]
  },
  {
   "cell_type": "code",
   "execution_count": 49,
   "id": "f0d81abb-c5c1-4f01-9549-c41e0a7d5188",
   "metadata": {},
   "outputs": [
    {
     "name": "stdout",
     "output_type": "stream",
     "text": [
      "\n",
      "Pearson Corr: 0.26093668022221433\n"
     ]
    }
   ],
   "source": [
    "#38. Pearson correlation coefficient\n",
    "a38, b38 = np.random.rand(10), np.random.rand(10)\n",
    "corr = np.corrcoef(a38, b38)[0, 1]\n",
    "print(\"\\nPearson Corr:\", corr)"
   ]
  },
  {
   "cell_type": "code",
   "execution_count": 50,
   "id": "036692b4-9931-4467-a7b5-86c38f1c6ec4",
   "metadata": {},
   "outputs": [
    {
     "name": "stdout",
     "output_type": "stream",
     "text": [
      "\n",
      "Gradient: [1.  1.5 2.5 3.5 4. ]\n"
     ]
    }
   ],
   "source": [
    "# 39. Numerical gradient\n",
    "a39 = np.array([1, 2, 4, 7, 11])\n",
    "grad = np.gradient(a39)\n",
    "print(\"\\nGradient:\", grad)"
   ]
  },
  {
   "cell_type": "code",
   "execution_count": 51,
   "id": "a108397d-288a-46c4-b185-1fce7f02e503",
   "metadata": {},
   "outputs": [
    {
     "name": "stdout",
     "output_type": "stream",
     "text": [
      "\n",
      "SVD:\n",
      "U=\n",
      " [[-0.72249465  0.03889194 -0.69028175]\n",
      " [-0.52605397 -0.67879009  0.51235849]\n",
      " [-0.4486298   0.73330173  0.51088147]] \n",
      "S=\n",
      " [1.70481453 0.58790305 0.05272338] \n",
      "V=\n",
      " [[-0.75602511 -0.55332661 -0.34965082]\n",
      " [ 0.65237237 -0.59353238 -0.47130627]\n",
      " [-0.05325722  0.58442191 -0.80970037]]\n"
     ]
    }
   ],
   "source": [
    "#40. Singular Value Decomposition (SVD)\n",
    "a40 = np.random.rand(3, 3)\n",
    "U, S, V = np.linalg.svd(a40)\n",
    "print(\"\\nSVD:\\nU=\\n\", U, \"\\nS=\\n\", S, \"\\nV=\\n\", V)"
   ]
  }
 ],
 "metadata": {
  "kernelspec": {
   "display_name": "Python [conda env:base] *",
   "language": "python",
   "name": "conda-base-py"
  },
  "language_info": {
   "codemirror_mode": {
    "name": "ipython",
    "version": 3
   },
   "file_extension": ".py",
   "mimetype": "text/x-python",
   "name": "python",
   "nbconvert_exporter": "python",
   "pygments_lexer": "ipython3",
   "version": "3.13.5"
  }
 },
 "nbformat": 4,
 "nbformat_minor": 5
}
